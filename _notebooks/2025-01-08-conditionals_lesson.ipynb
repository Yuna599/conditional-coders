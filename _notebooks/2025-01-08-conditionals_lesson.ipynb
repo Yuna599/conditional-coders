{
 "cells": [
  {
   "cell_type": "markdown",
   "metadata": {},
   "source": [
    "---\n",
    "layout: post\n",
    "title: Conditionals\n",
    "---\n",
    "\n",
    "## Conditions 101 \n",
    "\n",
    "# Conditional Staments are what happens next in the program when a certain condition is met. \n",
    "\n",
    "## If Statments\n",
    "\n",
    "# If stat"
   ]
  }
 ],
 "metadata": {
  "language_info": {
   "name": "python"
  }
 },
 "nbformat": 4,
 "nbformat_minor": 2
}
